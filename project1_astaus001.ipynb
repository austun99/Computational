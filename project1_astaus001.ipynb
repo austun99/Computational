{
 "cells": [
  {
   "cell_type": "code",
   "execution_count": 1,
   "id": "ba07e052",
   "metadata": {},
   "outputs": [],
   "source": [
    "#project 1: Shooting method\n",
    "#Author: Austun Louw"
   ]
  },
  {
   "cell_type": "code",
   "execution_count": 269,
   "id": "081690ed",
   "metadata": {},
   "outputs": [],
   "source": [
    "#help from this the site below\n",
    "#https://www.researchgate.net/publication/347387708_Non-Linear_ODE_Shooting_Method_Python_Code"
   ]
  },
  {
   "cell_type": "code",
   "execution_count": 286,
   "id": "fc285e71",
   "metadata": {},
   "outputs": [],
   "source": [
    "import numpy as np\n",
    "import matplotlib.pyplot as plt"
   ]
  },
  {
   "cell_type": "code",
   "execution_count": 352,
   "id": "1c22eaae",
   "metadata": {},
   "outputs": [],
   "source": [
    "#parameters \n",
    "#choose a step-size and tolerance\n",
    "h = 0.001\n",
    "tolerance = 1e-6   \n",
    "\n",
    "#boudary values of x and y\n",
    "x0 = np.sqrt(np.pi/6)\n",
    "x1 = 2 * np.sqrt(np.pi/3)\n",
    "x_end = x1\n",
    "y0 = -1/2\n",
    "y1 = 0"
   ]
  },
  {
   "cell_type": "code",
   "execution_count": 353,
   "id": "cc1b3b76",
   "metadata": {},
   "outputs": [],
   "source": [
    "#exact solutions\n",
    "def y_exact(x):\n",
    "    return 0.5*np.sin(x**2)-(np.sqrt(3)/2)*np.cos(x**2)\n",
    "    \n",
    "def dy_exact(x):\n",
    "    return x*np.cos(x**2) + np.sqrt(3)*np.sin(x**2)"
   ]
  },
  {
   "cell_type": "code",
   "execution_count": 354,
   "id": "b27d8065",
   "metadata": {},
   "outputs": [],
   "source": [
    "#defining the runge-kutta method function\n",
    "\n",
    "def rk4(f, y0, x0, h, x_end):\n",
    "    \n",
    "    x = np.arange(x0, x_end + h, h)                                #x array with the time step h\n",
    "    y = np.zeros((x.size, y0.size))                                #creating y array containing zeros\n",
    "    \n",
    "    y[0] = y0                                                      #storing the initial value of y in the array of y\n",
    "    \n",
    "    for i in range(x.size -1):\n",
    "        k1 = f(x[i], y[i])\n",
    "        k2 = f(x[i] +0.5 * h, y[i] + 0.5*h*k1)\n",
    "        k3 = f(x[i] +0.5 * h, y[i] + 0.5*h*k2)\n",
    "        k4 = f(x[i] + h, y[i] + h*k3)\n",
    "        \n",
    "        y[i+1] = y[i] + h * (k1 + 2 * k2 + 2 * k3 + k4)/6.0         #updating the next value\n",
    "    \n",
    "    return x, y                                                     #returning the x and y array"
   ]
  },
  {
   "cell_type": "code",
   "execution_count": null,
   "id": "f793b9ff",
   "metadata": {},
   "outputs": [],
   "source": []
  },
  {
   "cell_type": "code",
   "execution_count": 355,
   "id": "6b1d8606",
   "metadata": {},
   "outputs": [],
   "source": [
    "#initial condition function for y' at the boundary x0 using shooting method\n",
    "def y_0(a):\n",
    "    return np.array([-1/2, a])            #array containing the initial condition y0 and the introduced initial value"
   ]
  },
  {
   "cell_type": "code",
   "execution_count": 356,
   "id": "65d82493",
   "metadata": {},
   "outputs": [],
   "source": [
    "#solving the ODE by defining the following function F(a) = y(x1,a) - y1\n",
    "#using the RK4 method \n",
    "\n",
    "def F(a, x_end):\n",
    "    y0 = y_0(a)\n",
    "    x_arr, y_arr = rk4(f, y0, x0, h, x_end)    #rk4 to solve ODE\n",
    "    \n",
    "    return y_arr[-1,0] - y1                    #returning F(a) = y(x1,a) - y1"
   ]
  },
  {
   "cell_type": "code",
   "execution_count": 357,
   "id": "e62e4d9e",
   "metadata": {},
   "outputs": [],
   "source": [
    "#second ODE function as a first coupled ODE\n",
    "def f(x,y):\n",
    "    return np.array([y[1],(1/x)*y[1] - 4*x**2*y[0]])"
   ]
  },
  {
   "cell_type": "code",
   "execution_count": 370,
   "id": "82a5c1f5",
   "metadata": {},
   "outputs": [],
   "source": [
    "#root finding method \n",
    "#using secant method because it is faster than the Bisection method and was advice not to use the Newton Method\n",
    "\n",
    "#Secant Method\n",
    "\n",
    "def secant_method(f, x0, x1, tol):\n",
    "    x_end = x1\n",
    "\n",
    "    while abs(x1 - x0) > tol:                        #while loop to check if the difference between the to points is greater than the tolerance\n",
    "\n",
    "        x = x1 - f(x1, x_end)*((x1 - x0)/(f(x1, x_end)- f(x0, x_end)))    #getting the x-intercept of the new line   \n",
    "        \n",
    "        x0 = x1                                      #setting x0 to the previous point of x1\n",
    "        x1 = x                                       #setting x1 to the new point\n",
    "        #print(x1)\n",
    "    return x                                         #returning the 'a' from the F(a) function\n"
   ]
  },
  {
   "cell_type": "code",
   "execution_count": 371,
   "id": "4db1149a",
   "metadata": {},
   "outputs": [
    {
     "name": "stdout",
     "output_type": "stream",
     "text": [
      "The value of a is: 1.242\n"
     ]
    }
   ],
   "source": [
    "#calling the secant method to get the values of a\n",
    "a_root = secant_method(F, x0, x1, tolerance)\n",
    "print('The value of a is:', round(a_root, 3))"
   ]
  },
  {
   "cell_type": "code",
   "execution_count": 367,
   "id": "4cc82f61",
   "metadata": {},
   "outputs": [
    {
     "name": "stdout",
     "output_type": "stream",
     "text": [
      "[-0.5         1.24215678]\n"
     ]
    }
   ],
   "source": [
    "#initial values for y and y'\n",
    "ini_val = y_0(a_root)\n",
    "print(ini_val)"
   ]
  },
  {
   "cell_type": "code",
   "execution_count": 372,
   "id": "aa9ddebc",
   "metadata": {},
   "outputs": [],
   "source": [
    "#Now we use the approperaite shooting parameter in the initial condition and solve for the system of ODE\n",
    "y0 = y_0(a_root)\n",
    "x, y = rk4(f, y0, x0, h, x_end)\n"
   ]
  },
  {
   "cell_type": "code",
   "execution_count": 374,
   "id": "32f4fab9",
   "metadata": {},
   "outputs": [
    {
     "data": {
      "image/png": "[encoded data removed]",
      "text/plain": [
       "<Figure size 720x432 with 1 Axes>"
      ]
     },
     "metadata": {
      "needs_background": "light"
     },
     "output_type": "display_data"
    }
   ],
   "source": [
    "#Ploting the results y and exact solution for y\n",
    "plt.figure(figsize=(10, 6))\n",
    "plt.plot(x, y_exact(x),'-r', label = 'Exact solution')\n",
    "plt.plot(x, y[:,0],'-.k', label = 'Shooting method')\n",
    "plt.xlabel('x', fontsize = 16)\n",
    "plt.ylabel('y', fontsize = 16)\n",
    "plt.title(' The Shooting Method ',fontsize = 18)\n",
    "plt.legend()\n",
    "plt.savefig('project1_astaus001')\n",
    "plt.show()\n"
   ]
  },
  {
   "cell_type": "code",
   "execution_count": 335,
   "id": "0c03c6d3",
   "metadata": {},
   "outputs": [
    {
     "name": "stdout",
     "output_type": "stream",
     "text": [
      "2.0816681711721685e-17\n"
     ]
    }
   ],
   "source": [
    "F_yarr = F(a_root, x_end)\n",
    "\n",
    "print(F_yarr)\n",
    "\n"
   ]
  },
  {
   "cell_type": "code",
   "execution_count": 361,
   "id": "cf12ebf7",
   "metadata": {},
   "outputs": [
    {
     "data": {
      "image/png": "[encoded data removed]",
      "text/plain": [
       "<Figure size 432x288 with 1 Axes>"
      ]
     },
     "metadata": {
      "needs_background": "light"
     },
     "output_type": "display_data"
    }
   ],
   "source": [
    "#plotting the exact solution and the derivate of the exact solution from the shooting method\n",
    "plt.plot(x, y[:, 0], label = 'Exact')\n",
    "plt.plot(x, y[:, 1], label = 'dy_Exact')\n",
    "plt.title('Exact vs dy_Exact')\n",
    "plt.xlabel('x')\n",
    "plt.ylabel('y')\n",
    "plt.legend()\n",
    "plt.savefig('project1_2_astaus001')\n",
    "plt.show()"
   ]
  },
  {
   "cell_type": "code",
   "execution_count": null,
   "id": "f1ed039b",
   "metadata": {},
   "outputs": [],
   "source": []
  },
  {
   "cell_type": "code",
   "execution_count": 266,
   "id": "678387b7",
   "metadata": {},
   "outputs": [],
   "source": []
  },
  {
   "cell_type": "code",
   "execution_count": null,
   "id": "5879bb1f",
   "metadata": {},
   "outputs": [],
   "source": []
  },
  {
   "cell_type": "code",
   "execution_count": null,
   "id": "b412702d",
   "metadata": {},
   "outputs": [],
   "source": []
  }
 ],
 "metadata": {
  "kernelspec": {
   "display_name": "Python 3 (ipykernel)",
   "language": "python",
   "name": "python3"
  },
  "language_info": {
   "codemirror_mode": {
    "name": "ipython",
    "version": 3
   },
   "file_extension": ".py",
   "mimetype": "text/x-python",
   "name": "python",
   "nbconvert_exporter": "python",
   "pygments_lexer": "ipython3",
   "version": "3.9.7"
  }
 },
 "nbformat": 4,
 "nbformat_minor": 5
}
